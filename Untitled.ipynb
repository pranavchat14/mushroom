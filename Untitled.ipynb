{
 "cells": [
  {
   "cell_type": "code",
   "execution_count": 114,
   "metadata": {},
   "outputs": [
    {
     "data": {
      "text/plain": [
       "RandomForestClassifier(max_depth=10, random_state=42)"
      ]
     },
     "execution_count": 114,
     "metadata": {},
     "output_type": "execute_result"
    }
   ],
   "source": [
    "import json\n",
    "import pickle\n",
    "import pandas as pd\n",
    "from sklearn.model_selection import train_test_split\n",
    "from sklearn.preprocessing import OneHotEncoder\n",
    "from sklearn.ensemble import RandomForestClassifier\n",
    "\n",
    "seed = 42\n",
    "\n",
    "df = pd.read_csv(\"mushrooms.csv\")\n",
    "\n",
    "X, y = df.drop(\"class\", axis=1), df[\"class\"]\n",
    "\n",
    "X_train, X_test, y_train, y_test = train_test_split(\n",
    "    X, y, test_size=0.3, random_state=seed\n",
    ")\n",
    "\n",
    "y_train = y_train.astype('category').cat.codes\n",
    "y_test = y_test.astype('category').cat.codes\n",
    "\n",
    "ohe = OneHotEncoder(sparse=True)\n",
    "X_train_enc = ohe.fit_transform(X_train)\n",
    "X_test_enc = ohe.transform(X_test)\n",
    "\n",
    "# X_train_enc = pd.DataFrame(X_train_enc, columns = ohe.get_feature_names())\n",
    "# X_test_enc = pd.DataFrame(X_test_enc, columns = ohe.get_feature_names())\n",
    "\n",
    "rf = RandomForestClassifier(max_depth=10, random_state=seed)\n",
    "rf.fit(X_train_enc, y_train)\n"
   ]
  },
  {
   "cell_type": "code",
   "execution_count": 115,
   "metadata": {},
   "outputs": [
    {
     "data": {
      "text/plain": [
       "1.0"
      ]
     },
     "execution_count": 115,
     "metadata": {},
     "output_type": "execute_result"
    }
   ],
   "source": [
    "rf.score(X_test_enc, y_test)"
   ]
  },
  {
   "cell_type": "code",
   "execution_count": 116,
   "metadata": {},
   "outputs": [
    {
     "data": {
      "text/plain": [
       "array([0, 1, 1, ..., 1, 0, 0], dtype=int8)"
      ]
     },
     "execution_count": 116,
     "metadata": {},
     "output_type": "execute_result"
    }
   ],
   "source": [
    "rf.predict(X_test_enc)"
   ]
  },
  {
   "cell_type": "code",
   "execution_count": 117,
   "metadata": {},
   "outputs": [
    {
     "data": {
      "text/plain": [
       "array([2.52757840e-03, 1.90054071e-04, 7.36426433e-04, 5.19659222e-04,\n",
       "       2.98789865e-04, 9.17279890e-04, 5.13075473e-03, 8.49187623e-05,\n",
       "       6.83468840e-03, 1.70264394e-03, 3.35265783e-03, 6.32481745e-04,\n",
       "       1.04016607e-03, 6.03314594e-04, 7.08374754e-04, 1.26849916e-03,\n",
       "       2.49128282e-04, 2.49645026e-04, 3.08951478e-03, 2.91121950e-03,\n",
       "       2.56678627e-02, 2.90199198e-02, 5.68571633e-03, 9.84317421e-03,\n",
       "       7.11312274e-02, 3.36736653e-03, 8.51647011e-04, 1.48402968e-01,\n",
       "       1.53875783e-02, 5.37913875e-03, 4.32696635e-03, 1.92624611e-04,\n",
       "       1.63224010e-04, 1.29100303e-02, 1.19161394e-02, 6.05771256e-02,\n",
       "       6.97410112e-02, 3.88025147e-02, 5.70809468e-04, 6.38661705e-04,\n",
       "       3.23471497e-03, 4.33207506e-04, 8.20754758e-04, 0.00000000e+00,\n",
       "       2.06333699e-04, 1.41161986e-03, 8.05804848e-04, 1.12236263e-03,\n",
       "       2.21691184e-04, 6.60823431e-03, 9.20012586e-03, 8.66375608e-03,\n",
       "       1.18010743e-02, 6.13295136e-03, 1.13209376e-02, 2.47981776e-03,\n",
       "       4.58445407e-03, 3.39764949e-02, 1.77642001e-02, 7.87634095e-04,\n",
       "       4.97249355e-03, 5.03204925e-02, 2.04622071e-02, 2.62452629e-03,\n",
       "       1.71209474e-03, 1.22449200e-03, 4.48438265e-04, 1.11312358e-03,\n",
       "       1.48364408e-03, 5.74843039e-04, 1.10716037e-03, 6.08658755e-03,\n",
       "       2.41330216e-04, 2.16517401e-03, 1.01634785e-03, 0.00000000e+00,\n",
       "       1.20880844e-03, 6.00036896e-04, 3.43914050e-05, 1.20191699e-03,\n",
       "       7.63992689e-03, 9.90929541e-04, 0.00000000e+00, 0.00000000e+00,\n",
       "       0.00000000e+00, 7.47258795e-05, 4.88104572e-05, 1.05045997e-03,\n",
       "       3.39261504e-03, 7.31691587e-03, 1.03877553e-02, 1.97134661e-03,\n",
       "       2.19142436e-02, 8.93288444e-04, 2.58053744e-02, 0.00000000e+00,\n",
       "       5.18538150e-02, 5.78697583e-03, 4.97124511e-03, 0.00000000e+00,\n",
       "       9.16402797e-03, 1.95866133e-03, 1.49457887e-02, 0.00000000e+00,\n",
       "       4.33595972e-03, 2.49932538e-03, 1.22437956e-03, 2.93134008e-03,\n",
       "       1.73580371e-02, 4.27997144e-03, 8.16228471e-03, 5.24934842e-03,\n",
       "       1.33167837e-03, 3.07026763e-03, 3.36916659e-03, 7.87385901e-03,\n",
       "       3.49695810e-04])"
      ]
     },
     "execution_count": 117,
     "metadata": {},
     "output_type": "execute_result"
    }
   ],
   "source": [
    "rf.feature_importances_"
   ]
  },
  {
   "cell_type": "code",
   "execution_count": 118,
   "metadata": {},
   "outputs": [],
   "source": [
    "import seaborn as sns\n",
    "import matplotlib.pyplot as plt\n",
    "# Calculate feature importance in random forest\n",
    "importances = rf.feature_importances_\n",
    "labels = ohe.get_feature_names()\n",
    "feature_df = pd.DataFrame(\n",
    "    list(zip(labels, importances)), columns=[\"feature\", \"importance\"]\n",
    ")\n",
    "feature_df = feature_df.sort_values(by=\"importance\", ascending=False)\n",
    "\n",
    "# image formatting\n",
    "axis_fs = 18  # fontsize\n",
    "title_fs = 22  # fontsize\n",
    "sns.set(style=\"whitegrid\", rc={'figure.figsize':(10, 28)})\n",
    "ax = sns.barplot(x=\"importance\", y=\"feature\", data=feature_df)\n",
    "ax.set_xlabel(\"Importance\", fontsize=axis_fs)\n",
    "ax.set_ylabel(\"Feature\", fontsize=axis_fs)  # ylabel\n",
    "ax.set_title(\"Random forest\\nfeature importance\", fontsize=title_fs)\n",
    "\n",
    "plt.tight_layout()\n",
    "plt.savefig(\"feature_importance.png\", dpi=120)\n",
    "plt.close()"
   ]
  },
  {
   "cell_type": "code",
   "execution_count": 123,
   "metadata": {},
   "outputs": [
    {
     "data": {
      "text/plain": [
       "array([0, 1, 1, ..., 1, 0, 0], dtype=int8)"
      ]
     },
     "execution_count": 123,
     "metadata": {},
     "output_type": "execute_result"
    }
   ],
   "source": [
    "y_test.values"
   ]
  },
  {
   "cell_type": "code",
   "execution_count": 120,
   "metadata": {},
   "outputs": [
    {
     "data": {
      "text/plain": [
       "array([0, 1, 1, ..., 1, 0, 0], dtype=int8)"
      ]
     },
     "execution_count": 120,
     "metadata": {},
     "output_type": "execute_result"
    }
   ],
   "source": [
    "predictions = rf.predict(X_test_enc)\n",
    "predictions "
   ]
  },
  {
   "cell_type": "code",
   "execution_count": 125,
   "metadata": {},
   "outputs": [],
   "source": [
    "from sklearn import metrics\n",
    "precision, recall, prc_thresholds = metrics.precision_recall_curve(y_test.values, predictions)\n",
    "fpr, tpr, roc_thresholds = metrics.roc_curve(y_test, predictions)\n",
    "\n",
    "avg_prec = metrics.average_precision_score(y_test, predictions)\n",
    "roc_auc = metrics.roc_auc_score(y_test, predictions)"
   ]
  },
  {
   "cell_type": "code",
   "execution_count": 126,
   "metadata": {},
   "outputs": [
    {
     "data": {
      "text/plain": [
       "array([1., 1.])"
      ]
     },
     "execution_count": 126,
     "metadata": {},
     "output_type": "execute_result"
    }
   ],
   "source": [
    "precision"
   ]
  },
  {
   "cell_type": "code",
   "execution_count": 127,
   "metadata": {},
   "outputs": [
    {
     "data": {
      "text/plain": [
       "array([1., 0.])"
      ]
     },
     "execution_count": 127,
     "metadata": {},
     "output_type": "execute_result"
    }
   ],
   "source": [
    "recall"
   ]
  },
  {
   "cell_type": "code",
   "execution_count": 128,
   "metadata": {},
   "outputs": [
    {
     "data": {
      "text/plain": [
       "array([1], dtype=int8)"
      ]
     },
     "execution_count": 128,
     "metadata": {},
     "output_type": "execute_result"
    }
   ],
   "source": [
    "prc_thresholds"
   ]
  },
  {
   "cell_type": "code",
   "execution_count": null,
   "metadata": {},
   "outputs": [],
   "source": []
  },
  {
   "cell_type": "code",
   "execution_count": null,
   "metadata": {},
   "outputs": [],
   "source": []
  },
  {
   "cell_type": "code",
   "execution_count": 156,
   "metadata": {},
   "outputs": [],
   "source": [
    "import json\n",
    "import pickle\n",
    "import pandas as pd\n",
    "import seaborn as sns\n",
    "import matplotlib.pyplot as plt\n",
    "from sklearn.model_selection import train_test_split\n",
    "from sklearn.preprocessing import OneHotEncoder\n",
    "from sklearn.ensemble import RandomForestClassifier\n",
    "from sklearn import metrics\n",
    "\n",
    "seed = 42\n",
    "\n",
    "df = pd.read_csv(\"mushrooms.csv\")\n",
    "\n",
    "X, y = df.drop(\"class\", axis=1), df[\"class\"]\n",
    "\n",
    "X_train, X_test, y_train, y_test = train_test_split(\n",
    "    X, y, test_size=0.3, random_state=seed\n",
    ")\n",
    "\n",
    "y_train = y_train.astype(\"category\").cat.codes\n",
    "y_test = y_test.astype(\"category\").cat.codes\n",
    "\n",
    "\n",
    "ohe = OneHotEncoder(sparse=True)\n",
    "X_train_enc = ohe.fit_transform(X_train)\n",
    "X_test_enc = ohe.transform(X_test)\n",
    "\n",
    "# X_train_enc = pd.DataFrame(X_train_enc, columns = ohe.get_feature_names())\n",
    "# X_test_enc = pd.DataFrame(X_test_enc, columns = ohe.get_feature_names())\n",
    "\n",
    "rf = RandomForestClassifier(max_depth=100, random_state=seed)\n",
    "rf.fit(X_train_enc, y_train)\n",
    "\n",
    "predictions = rf.predict(X_test_enc)\n",
    "\n",
    "train_score = rf.score(X_train_enc, y_train) * 100\n",
    "test_score = rf.score(X_test_enc, y_test) * 100\n",
    "\n",
    "\n",
    "precision, recall, prc_thresholds = metrics.precision_recall_curve(\n",
    "    y_test, predictions\n",
    ")\n",
    "fpr, tpr, roc_thresholds = metrics.roc_curve(y_test, predictions)\n",
    "\n",
    "avg_prec = metrics.average_precision_score(y_test, predictions)\n",
    "roc_auc = metrics.roc_auc_score(y_test, predictions)\n",
    "\n",
    "# Calculate feature importance in random forest\n",
    "importances = rf.feature_importances_\n",
    "labels = ohe.get_feature_names()\n",
    "feature_df = pd.DataFrame(\n",
    "    list(zip(labels, importances)), columns=[\"feature\", \"importance\"]\n",
    ")\n",
    "feature_df = feature_df.sort_values(by=\"importance\", ascending=False)\n",
    "\n",
    "# image formatting\n",
    "axis_fs = 18  # fontsize\n",
    "title_fs = 22  # fontsize\n",
    "sns.set(style=\"whitegrid\", rc={\"figure.figsize\": (10, 28)})\n",
    "ax = sns.barplot(x=\"importance\", y=\"feature\", data=feature_df)\n",
    "ax.set_xlabel(\"Importance\", fontsize=axis_fs)\n",
    "ax.set_ylabel(\"Feature\", fontsize=axis_fs)  # ylabel\n",
    "ax.set_title(\"Random forest\\nfeature importance\", fontsize=title_fs)\n",
    "\n",
    "plt.tight_layout()\n",
    "plt.savefig(\"feature_importance.png\", dpi=120)\n",
    "plt.close()\n",
    "\n",
    "nth_point = math.ceil(len(prc_thresholds) / 1000)\n",
    "prc_points = list(zip(precision, recall, prc_thresholds))[::nth_point]\n",
    "with open(\"prc.json\", \"w\") as fd:\n",
    "    json.dump(\n",
    "        {\n",
    "            \"prc\": [\n",
    "                {\"precision\": float(p), \"recall\": float(r), \"threshold\": float(t)}\n",
    "                for p, r, t in prc_points\n",
    "            ]\n",
    "        },\n",
    "        fd,\n",
    "        indent=4,\n",
    "    )\n",
    "\n",
    "with open(\"roc.json\", \"w\") as fd:\n",
    "    json.dump(\n",
    "        {\n",
    "            \"roc\": [\n",
    "                {\"fpr\": float(fp), \"tpr\": float(tp), \"threshold\": float(t)}\n",
    "                for fp, tp, t in zip(fpr, tpr, roc_thresholds)\n",
    "            ]\n",
    "        },\n",
    "        fd,\n",
    "        indent=4,\n",
    "    )\n",
    "\n",
    "with open(\"encoder.pkl\", \"wb\") as f:\n",
    "    pickle.dump(ohe, f)\n",
    "\n",
    "with open(\"rf.pkl\", \"wb\") as m:\n",
    "    pickle.dump(rf, m)\n",
    "\n",
    "with open(\"scores.json\", \"w\") as fd:\n",
    "    json.dump({\"accuracy_score\": test_score}, fd)\n",
    "\n",
    "with open(\"metrics.txt\", \"w\") as outfile:\n",
    "    outfile.write(\"Training accuracy: %2.1f%%\\n\" % train_score)\n",
    "    outfile.write(\"Test accuracy: %2.1f%%\\n\" % test_score)"
   ]
  },
  {
   "cell_type": "code",
   "execution_count": 154,
   "metadata": {},
   "outputs": [],
   "source": [
    "with open('prc.json', \"w\") as fd:\n",
    "    json.dump(\n",
    "        {\n",
    "            \"prc\": [\n",
    "                {\"precision\": float(p), \"recall\": float(r), \"threshold\": float(t)}\n",
    "                for p, r, t in prc_points\n",
    "            ]\n",
    "        },\n",
    "        fd,\n",
    "        indent=4,\n",
    "    )\n"
   ]
  },
  {
   "cell_type": "code",
   "execution_count": null,
   "metadata": {},
   "outputs": [],
   "source": []
  }
 ],
 "metadata": {
  "kernelspec": {
   "display_name": "Python 3",
   "language": "python",
   "name": "python3"
  },
  "language_info": {
   "codemirror_mode": {
    "name": "ipython",
    "version": 3
   },
   "file_extension": ".py",
   "mimetype": "text/x-python",
   "name": "python",
   "nbconvert_exporter": "python",
   "pygments_lexer": "ipython3",
   "version": "3.8.10"
  }
 },
 "nbformat": 4,
 "nbformat_minor": 4
}
